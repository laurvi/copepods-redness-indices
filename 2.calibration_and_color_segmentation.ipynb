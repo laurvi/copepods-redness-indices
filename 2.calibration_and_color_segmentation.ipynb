{
 "cells": [
  {
   "cell_type": "code",
   "execution_count": null,
   "metadata": {},
   "outputs": [],
   "source": [
    "\"\"\" Calibration and color segmentation of copepod microscope images\n",
    "\n",
    "Usage:\n",
    "======\n",
    "    1. Read images and calibrate segmentation\n",
    "    - Read a given dataset ang display original images [ ]\n",
    "    - Zoom and/or avoid dark parts from the microscope or part of the petri box [ ]\n",
    "    - Calibrate images without segmentation (using the median) [ ]\n",
    "    - Save modified images [ ] and array of background definition [ ]\n",
    "    \n",
    "    2. Identify red pixels with the color deconvolution method\n",
    "    - Construct color deconvolution matrix\n",
    "    - Apply it on all calibrated images \n",
    "    - Display and save images \n",
    "     \n",
    "    3. Normalise optical density (OD) levels, corresponding to astaxanthin RGB intensity, between images\n",
    "    - Compute max OD levels accross all tested images \n",
    "    - Correct each pixel by this maximum, to obtain a value between 0 and 1\n",
    "    - Display and save images \n",
    "    \n",
    "    4. Test different types of datasets (various complexity of images)\n",
    "    - dataset 1 (32 images): homogenous images (same microscope and color conditions) \n",
    "    - dataset 2 (32 images): some images with special color conditions, but a majority of homogenous images\n",
    "    - dataset 3 (32 images): as many \"complex\" images than \"simple\" images \n",
    "    - comparison of deconvolution results and OD levels between the various datasets \n",
    "     \n",
    "\"\"\"\n",
    "\n",
    "__authors__ = (\"Laure Vilgrain\", \"Jean-Olivier Irisson\", \"Simon-Martin Schröder\")\n",
    "__contact__ = (\"laure.vilgrain@imev-mer.fr\", \"irisson@normalesup.org\", \"sms@informatik.uni-kiel.de\")\n",
    "__version__ = \"1.0.0\"\n",
    "__date__ = \"04-2021\""
   ]
  }
 ],
 "metadata": {
  "kernelspec": {
   "display_name": "pym",
   "language": "python",
   "name": "pym"
  },
  "language_info": {
   "codemirror_mode": {
    "name": "ipython",
    "version": 3
   },
   "file_extension": ".py",
   "mimetype": "text/x-python",
   "name": "python",
   "nbconvert_exporter": "python",
   "pygments_lexer": "ipython3",
   "version": "3.9.2"
  }
 },
 "nbformat": 4,
 "nbformat_minor": 4
}
