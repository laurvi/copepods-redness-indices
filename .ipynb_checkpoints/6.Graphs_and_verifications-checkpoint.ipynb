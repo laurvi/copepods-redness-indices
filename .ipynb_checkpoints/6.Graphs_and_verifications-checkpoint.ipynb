{
 "cells": [
  {
   "cell_type": "code",
   "execution_count": null,
   "metadata": {},
   "outputs": [],
   "source": [
    " \"\"\" Graphs for Chapter 3 and Annexes\n",
    "\n",
    "Usage:\n",
    "======\n",
    "    1. Read all files and write pixel size and pixel numer by image [X]\n",
    "    2. Intercalibrate images and save them - print 32 images randomly [X]\n",
    "    3. Define color deconvolution matrix [X]\n",
    "    4. Deconvolution of astaxanthin redness [X]\n",
    "    5. Normalise astaxanthin redness between 0 and 1 and save the one dimension image - print the same 32 images than before [X]\n",
    "    6. Use a threshold to define red pixels, sum optical density levels by image, devide by the pixel_nb*pixelarea [X]\n",
    "    7. Save a tible with image name associated to the redness index [X]\n",
    "     \n",
    "\"\"\"\n",
    "\n",
    "__authors__ = (\"Laure Vilgrain\", \"Jean-Olivier Irisson\", \"Simon-Martin Schröder\")\n",
    "__contact__ = (\"laure.vilgrain@imev-mer.fr\", \"irisson@normalesup.org\", \"sms@informatik.uni-kiel.de\")\n",
    "__version__ = \"1.0.0\"\n",
    "__date__ = \"04-2021\" "
   ]
  }
 ],
 "metadata": {
  "kernelspec": {
   "display_name": "pym",
   "language": "python",
   "name": "pym"
  },
  "language_info": {
   "codemirror_mode": {
    "name": "ipython",
    "version": 3
   },
   "file_extension": ".py",
   "mimetype": "text/x-python",
   "name": "python",
   "nbconvert_exporter": "python",
   "pygments_lexer": "ipython3",
   "version": "3.9.2"
  }
 },
 "nbformat": 4,
 "nbformat_minor": 4
}
